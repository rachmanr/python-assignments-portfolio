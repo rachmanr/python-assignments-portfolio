{
 "cells": [
  {
   "cell_type": "code",
   "execution_count": 3,
   "id": "5de6ba06-8273-4940-b6ea-77e4471105d2",
   "metadata": {},
   "outputs": [
    {
     "name": "stdout",
     "output_type": "stream",
     "text": [
      "0.7853981632974483\n",
      "0.7853981634974483\n"
     ]
    }
   ],
   "source": [
    "import numpy as np ###for test functions/parameters 2&3\n",
    "\n",
    "def f(x):\n",
    "    return np.exp(x) ###insert test fuction\n",
    "    \n",
    "c= 0 ###insert test point\n",
    "E= 0.01 ###insert error value\n",
    "\n",
    "n=100\n",
    "x1=c\n",
    "x2=c\n",
    "d_x=10**(-8)\n",
    "d=0.0000000001\n",
    "\n",
    "def f_prime(x):\n",
    "    return (f(x+d_x-f(x-d_x))/(2*d_x))\n",
    "    \n",
    "def l_a(x):\n",
    "    return f(c)+f_prime(c)*(x-c)\n",
    "\n",
    "for i in range(n):\n",
    "    x1-=d\n",
    "    if abs(f(x1)-l_a(x1))<=E:\n",
    "        print(x1)\n",
    "        break\n",
    "    else:\n",
    "        print(\"No such x1\")\n",
    "        \n",
    "for i in range(n):\n",
    "    x2+=d\n",
    "    if abs(f(x2)-l_a(x2))<=E:\n",
    "        print(x2)\n",
    "        break\n",
    "    else:\n",
    "        print(\"No such x2\")\n"
   ]
  },
  {
   "cell_type": "code",
   "execution_count": null,
   "id": "48fa5ada-c5a0-46f3-b68d-e1dabe9d8b9d",
   "metadata": {},
   "outputs": [],
   "source": []
  }
 ],
 "metadata": {
  "kernelspec": {
   "display_name": "Python 3 (ipykernel)",
   "language": "python",
   "name": "python3"
  },
  "language_info": {
   "codemirror_mode": {
    "name": "ipython",
    "version": 3
   },
   "file_extension": ".py",
   "mimetype": "text/x-python",
   "name": "python",
   "nbconvert_exporter": "python",
   "pygments_lexer": "ipython3",
   "version": "3.11.4"
  }
 },
 "nbformat": 4,
 "nbformat_minor": 5
}
