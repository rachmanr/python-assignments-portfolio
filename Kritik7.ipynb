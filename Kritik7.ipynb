{
 "cells": [
  {
   "cell_type": "code",
   "execution_count": 2,
   "id": "84508929-9667-49f4-80bb-2ca757839ce6",
   "metadata": {},
   "outputs": [
    {
     "name": "stdout",
     "output_type": "stream",
     "text": [
      "False\n",
      "2.290087686017293\n"
     ]
    }
   ],
   "source": [
    "import numpy as np\n",
    "from scipy.special import gamma\n",
    "\n",
    "scores = [92.64,79.00,84.79,97.41,93.68,65.23,84.50,73.49,73.97,79.11] ###store dana in a list\n",
    "\n",
    "def mean(): ###find the mean using \"only standard arithmetic operations\" (rip stats.mean())\n",
    "    tot = 0\n",
    "    for i in scores:\n",
    "        tot += i\n",
    "    return tot/len(scores)\n",
    "\n",
    "def stdv(): ###find standard dev\n",
    "    sig = 0\n",
    "    for i in scores:\n",
    "        sig += (i-mean())**2\n",
    "    return np.sqrt((sig/(len(scores)-1)))\n",
    "\n",
    "def t_0(mu): ###find our t_0\n",
    "    return (mean() - mu)/(stdv()/np.sqrt(len(scores)))\n",
    "\n",
    "def t_distribution_pdf(x, nu): ###thanks greg\n",
    "    coeff = gamma((nu + 1) / 2) / (np.sqrt(nu * np.pi) * gamma(nu / 2))\n",
    "    density = coeff * (1 + x**2 / nu) ** (-0.5 * (nu + 1))\n",
    "    return density\n",
    "\n",
    "def find_t_star(prob, nu, x_start=0, x_end=20, num_points=10000): ###thanks greg\n",
    "    x = np.linspace(x_start, x_end, num_points)\n",
    "    y = t_distribution_pdf(x, nu)\n",
    "    cdf = np.cumsum(y) * (x[1] - x[0]) ###lmao\n",
    "    target_half_prob = prob / 2\n",
    "    index = np.where(cdf >= target_half_prob)[0][0]\n",
    "    return x[index]\n",
    "\n",
    "def t_comp(): ###find out if the difference is statistically significant (False) or not (True)\n",
    "    if t_0(75) < -1*find_t_star(0.95, len(scores)-1) or t_0(75) > find_t_star(0.95, len(scores)-1):\n",
    "        return False\n",
    "    else:\n",
    "        return True\n",
    "\n",
    "###please for the love of god if any of you tell me i only need one # im gonna drop out\n",
    "\n",
    "print(t_comp())\n",
    "print(t_0(75))"
   ]
  }
 ],
 "metadata": {
  "kernelspec": {
   "display_name": "Python 3 (ipykernel)",
   "language": "python",
   "name": "python3"
  },
  "language_info": {
   "codemirror_mode": {
    "name": "ipython",
    "version": 3
   },
   "file_extension": ".py",
   "mimetype": "text/x-python",
   "name": "python",
   "nbconvert_exporter": "python",
   "pygments_lexer": "ipython3",
   "version": "3.11.4"
  }
 },
 "nbformat": 4,
 "nbformat_minor": 5
}
