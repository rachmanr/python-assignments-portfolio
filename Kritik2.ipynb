{
 "cells": [
  {
   "cell_type": "code",
   "execution_count": null,
   "id": "a70b8018-1898-4458-a869-937ba6527bf8",
   "metadata": {},
   "outputs": [],
   "source": [
    "from numpy import *\n",
    "def f(x):\n",
    "    return ###add function here\n",
    "a= ###add lower limit here\n",
    "b= ###add upper limit here\n",
    "\n",
    "N=1000\n",
    "def roots(f, a, b):\n",
    "    for n in range(1,N+1):\n",
    "        m = (a + b)/2\n",
    "        f_m = f(m)\n",
    "        if f_m==0:\n",
    "            return m\n",
    "        elif f(a)*f_m <= 0:\n",
    "            b = m\n",
    "        elif f(b)*f_m <= 0:\n",
    "            a = m\n",
    "        \n",
    "    return (a+b)/2\n",
    "\n",
    "root = roots(f, a, b)\n",
    "print(\"solution at x = \",round(root, 10))"
   ]
  }
 ],
 "metadata": {
  "kernelspec": {
   "display_name": "Python 3 (ipykernel)",
   "language": "python",
   "name": "python3"
  },
  "language_info": {
   "codemirror_mode": {
    "name": "ipython",
    "version": 3
   },
   "file_extension": ".py",
   "mimetype": "text/x-python",
   "name": "python",
   "nbconvert_exporter": "python",
   "pygments_lexer": "ipython3",
   "version": "3.11.4"
  }
 },
 "nbformat": 4,
 "nbformat_minor": 5
}
