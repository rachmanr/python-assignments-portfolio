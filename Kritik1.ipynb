{
 "cells": [
  {
   "cell_type": "code",
   "execution_count": 10,
   "id": "df7f47ed-3f81-4468-95c8-edfb80b8c998",
   "metadata": {},
   "outputs": [
    {
     "name": "stdin",
     "output_type": "stream",
     "text": [
      "x =  1\n"
     ]
    },
    {
     "name": "stdout",
     "output_type": "stream",
     "text": [
      "(0.7854481733989479, 10001, 9.999000099990002e-05)\n"
     ]
    }
   ],
   "source": [
    "slay = float(input(\"x = \"))\n",
    "def greg(x):\n",
    "    if x<0 or x>1:\n",
    "        print(\"Error!\")\n",
    "    else: \n",
    "        a = 0\n",
    "        n = 0\n",
    "        error_bound = x**(2*n+1)/(2*n+1)\n",
    "        while error_bound > 0.0001:\n",
    "            n+=1\n",
    "            error_bound = x**(2*n+1)/(2*n+1)\n",
    "        for (i) in range(0,n-1):\n",
    "            a+=((-1)**i*(x**(2*i+1)))/(2*i+1) \n",
    "        greg = 2*n+1\n",
    "        return a,greg,error_bound\n",
    "print(greg(slay))"
   ]
  }
 ],
 "metadata": {
  "kernelspec": {
   "display_name": "Python 3 (ipykernel)",
   "language": "python",
   "name": "python3"
  },
  "language_info": {
   "codemirror_mode": {
    "name": "ipython",
    "version": 3
   },
   "file_extension": ".py",
   "mimetype": "text/x-python",
   "name": "python",
   "nbconvert_exporter": "python",
   "pygments_lexer": "ipython3",
   "version": "3.11.4"
  }
 },
 "nbformat": 4,
 "nbformat_minor": 5
}
